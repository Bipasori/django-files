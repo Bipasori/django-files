{
 "cells": [
  {
   "cell_type": "code",
   "execution_count": 1,
   "metadata": {},
   "outputs": [],
   "source": [
    "import subprocess\n",
    "\n",
    "def run_cmd(cmd_str):\n",
    "    proc = subprocess.Popen(cmd_str, stdout=subprocess.PIPE, shell=True)\n",
    "    \n",
    "    return str(proc.stdout.read())"
   ]
  },
  {
   "cell_type": "code",
   "execution_count": 3,
   "metadata": {},
   "outputs": [],
   "source": [
    "dirlist = run_cmd(\"dir\")"
   ]
  },
  {
   "cell_type": "code",
   "execution_count": 5,
   "metadata": {},
   "outputs": [
    {
     "data": {
      "text/plain": [
       "str"
      ]
     },
     "execution_count": 5,
     "metadata": {},
     "output_type": "execute_result"
    }
   ],
   "source": [
    "type(dirlist)"
   ]
  },
  {
   "cell_type": "code",
   "execution_count": 6,
   "metadata": {},
   "outputs": [
    {
     "data": {
      "text/plain": [
       "\"b' D \\\\xb5\\\\xe5\\\\xb6\\\\xf3\\\\xc0\\\\xcc\\\\xba\\\\xea\\\\xc0\\\\xc7 \\\\xba\\\\xbc\\\\xb7\\\\xfd: \\\\xbb\\\\xf5 \\\\xba\\\\xbc\\\\xb7\\\\xfd\\\\r\\\\n \\\\xba\\\\xbc\\\\xb7\\\\xfd \\\\xc0\\\\xcf\\\\xb7\\\\xc3 \\\\xb9\\\\xf8\\\\xc8\\\\xa3: 28D0-2FCA\\\\r\\\\n\\\\r\\\\n D:\\\\\\\\websource\\\\\\\\DjangoFiles \\\\xb5\\\\xf0\\\\xb7\\\\xba\\\\xc5\\\\xcd\\\\xb8\\\\xae\\\\r\\\\n\\\\r\\\\n2022-06-23  \\\\xbf\\\\xc0\\\\xc8\\\\xc4 04:21    <DIR>          .\\\\r\\\\n2022-06-23  \\\\xbf\\\\xc0\\\\xc8\\\\xc4 04:21    <DIR>          ..\\\\r\\\\n2022-06-23  \\\\xbf\\\\xc0\\\\xc8\\\\xc4 04:21    <DIR>          .ipynb_checkpoints\\\\r\\\\n2022-06-23  \\\\xbf\\\\xc0\\\\xc8\\\\xc4 04:21                72 Untitled.ipynb\\\\r\\\\n               1\\\\xb0\\\\xb3 \\\\xc6\\\\xc4\\\\xc0\\\\xcf                  72 \\\\xb9\\\\xd9\\\\xc0\\\\xcc\\\\xc6\\\\xae\\\\r\\\\n               3\\\\xb0\\\\xb3 \\\\xb5\\\\xf0\\\\xb7\\\\xba\\\\xc5\\\\xcd\\\\xb8\\\\xae  207,404,421,120 \\\\xb9\\\\xd9\\\\xc0\\\\xcc\\\\xc6\\\\xae \\\\xb3\\\\xb2\\\\xc0\\\\xbd\\\\r\\\\n'\""
      ]
     },
     "execution_count": 6,
     "metadata": {},
     "output_type": "execute_result"
    }
   ],
   "source": [
    "dirlist"
   ]
  },
  {
   "cell_type": "code",
   "execution_count": 3,
   "metadata": {},
   "outputs": [],
   "source": [
    "\n",
    "proc = subprocess.Popen(\"dir\", stdout=subprocess.PIPE, shell=True)"
   ]
  },
  {
   "cell_type": "code",
   "execution_count": 4,
   "metadata": {},
   "outputs": [
    {
     "name": "stdout",
     "output_type": "stream",
     "text": [
      "<class 'bytes'>\n"
     ]
    }
   ],
   "source": [
    "aa = proc.stdout.read()\n",
    "print(type(aa))"
   ]
  },
  {
   "cell_type": "code",
   "execution_count": 7,
   "metadata": {},
   "outputs": [
    {
     "name": "stdout",
     "output_type": "stream",
     "text": [
      "<class 'str'>\n"
     ]
    }
   ],
   "source": [
    "bb = str(proc.stdout.read())\n",
    "print(type(bb))"
   ]
  },
  {
   "cell_type": "code",
   "execution_count": null,
   "metadata": {},
   "outputs": [],
   "source": []
  }
 ],
 "metadata": {
  "kernelspec": {
   "display_name": "Python 3",
   "language": "python",
   "name": "python3"
  },
  "language_info": {
   "codemirror_mode": {
    "name": "ipython",
    "version": 3
   },
   "file_extension": ".py",
   "mimetype": "text/x-python",
   "name": "python",
   "nbconvert_exporter": "python",
   "pygments_lexer": "ipython3",
   "version": "3.7.3"
  }
 },
 "nbformat": 4,
 "nbformat_minor": 4
}
